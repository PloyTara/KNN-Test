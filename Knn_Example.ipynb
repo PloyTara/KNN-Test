{
  "nbformat": 4,
  "nbformat_minor": 0,
  "metadata": {
    "colab": {
      "name": "Knn-Example",
      "provenance": [],
      "collapsed_sections": [],
      "authorship_tag": "ABX9TyNra8xn363mVk3V5sitapnG",
      "include_colab_link": true
    },
    "kernelspec": {
      "name": "python3",
      "display_name": "Python 3"
    }
  },
  "cells": [
    {
      "cell_type": "markdown",
      "metadata": {
        "id": "view-in-github",
        "colab_type": "text"
      },
      "source": [
        "<a href=\"https://colab.research.google.com/github/PloyTara/KNN-Test/blob/main/Knn_Example.ipynb\" target=\"_parent\"><img src=\"https://colab.research.google.com/assets/colab-badge.svg\" alt=\"Open In Colab\"/></a>"
      ]
    },
    {
      "cell_type": "code",
      "metadata": {
        "id": "5DKc4BiG_73d"
      },
      "source": [
        "import numpy as np\r\n",
        "\r\n",
        "def knn()"
      ],
      "execution_count": null,
      "outputs": []
    }
  ]
}