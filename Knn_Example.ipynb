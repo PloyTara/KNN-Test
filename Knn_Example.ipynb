{
  "nbformat": 4,
  "nbformat_minor": 0,
  "metadata": {
    "colab": {
      "name": "Knn-Example",
      "provenance": [],
      "collapsed_sections": [],
      "authorship_tag": "ABX9TyNpm3N3oQGCD3KCQUSzCMcb",
      "include_colab_link": true
    },
    "kernelspec": {
      "name": "python3",
      "display_name": "Python 3"
    }
  },
  "cells": [
    {
      "cell_type": "markdown",
      "metadata": {
        "id": "view-in-github",
        "colab_type": "text"
      },
      "source": [
        "<a href=\"https://colab.research.google.com/github/PloyTara/KNN-Test/blob/main/Knn_Example.ipynb\" target=\"_parent\"><img src=\"https://colab.research.google.com/assets/colab-badge.svg\" alt=\"Open In Colab\"/></a>"
      ]
    },
    {
      "cell_type": "code",
      "metadata": {
        "id": "5DKc4BiG_73d"
      },
      "source": [
        "import numpy as np\r\n",
        "\r\n",
        "def knn(Egg):\r\n",
        "  #Egg data Avg. Weight and Price\r\n",
        "  x = np.array([[70, 4], [67, 3.83], [62, 3.3], \r\n",
        "                 [57, 3.1], [52, 2.9], [47, 2.5]])\r\n",
        "  #Egg Label\r\n",
        "  y = np.array(['No.0', 'No.1', 'No.2', 'No.3', 'No.4', 'No.5'])\r\n",
        "\r\n",
        "  #Import data from egg and bring it to array\r\n",
        "  P = np.array(egg)\r\n",
        "  #Define variable for collect distance\r\n",
        "  D = np.zeros(len(y))\r\n",
        "\r\n",
        "  #Calculate distance\r\n",
        "  for idx, dataX in enumerate(x):\r\n",
        "    d[idx] = np.sqrt(np.sum((p-dataX)**2))\r\n",
        "\r\n",
        "  MinD = np.min(D) #Find the nearest\r\n",
        "  indexMin = np.argmin(D) #Find index of Min\r\n",
        "  predictResult = y[indexMin] #Predict the result\r\n",
        "\r\n",
        "  return predictResult \r\n"
      ],
      "execution_count": null,
      "outputs": []
    }
  ]
}