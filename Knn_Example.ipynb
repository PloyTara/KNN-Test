{
  "nbformat": 4,
  "nbformat_minor": 0,
  "metadata": {
    "colab": {
      "name": "Knn-Example",
      "provenance": [],
      "collapsed_sections": [],
      "authorship_tag": "ABX9TyOyZVRxon0DFHsOmWz3xD8q",
      "include_colab_link": true
    },
    "kernelspec": {
      "name": "python3",
      "display_name": "Python 3"
    }
  },
  "cells": [
    {
      "cell_type": "markdown",
      "metadata": {
        "id": "view-in-github",
        "colab_type": "text"
      },
      "source": [
        "<a href=\"https://colab.research.google.com/github/PloyTara/KNN-Test/blob/main/Knn_Example.ipynb\" target=\"_parent\"><img src=\"https://colab.research.google.com/assets/colab-badge.svg\" alt=\"Open In Colab\"/></a>"
      ]
    },
    {
      "cell_type": "code",
      "metadata": {
        "id": "5DKc4BiG_73d"
      },
      "source": [
        "import numpy as np\r\n",
        "\r\n",
        "def knn(Egg):\r\n",
        "  #Egg data Avg. Weight and Price\r\n",
        "  x = np.array([[70, 4], [67, 3.83], [62, 3.3], \r\n",
        "                 [57, 3.1], [52, 2.9], [47, 2.5]])\r\n",
        "  #Egg Label\r\n",
        "  y = np.array(['No.0', 'No.1', 'No.2', 'No.3', 'No.4', 'No.5'])\r\n",
        "\r\n",
        "  #Import data from egg and bring it to array\r\n",
        "  P = np.array(Egg)\r\n",
        "  #Define variable for collect distance\r\n",
        "  D = np.zeros(len(y))\r\n",
        "\r\n",
        "  #Calculate distance\r\n",
        "  for idx, dataX in enumerate(x):\r\n",
        "    D[idx] = np.sqrt(np.sum((P-dataX)**2))\r\n",
        "\r\n",
        "  MinD = np.min(D) #Find the nearest\r\n",
        "  indexMin = np.argmin(D) #Find index of Min\r\n",
        "  predictResult = y[indexMin] #Predict the result\r\n",
        "\r\n",
        "  return MinD, indexMin, predictResult \r\n"
      ],
      "execution_count": 11,
      "outputs": []
    },
    {
      "cell_type": "code",
      "metadata": {
        "colab": {
          "base_uri": "https://localhost:8080/"
        },
        "id": "xABMadpsTrJn",
        "outputId": "74e683b1-3a85-4229-adb5-26203fecb30d"
      },
      "source": [
        "Egg = [54.77, 6]\r\n",
        "Result = knn(Egg)\r\n",
        "print(Result)"
      ],
      "execution_count": 12,
      "outputs": [
        {
          "output_type": "stream",
          "text": [
            "(3.658264615907382, 3, 'No.3')\n"
          ],
          "name": "stdout"
        }
      ]
    }
  ]
}